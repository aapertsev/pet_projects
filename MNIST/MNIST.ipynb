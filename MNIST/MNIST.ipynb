{
 "cells": [
  {
   "cell_type": "markdown",
   "id": "8870efa6-f47c-4369-ad5e-062ac3d78b78",
   "metadata": {},
   "source": [
    "# Классификация изображений рукописных цифр (MNIST)\n",
    "- - - "
   ]
  },
  {
   "cell_type": "markdown",
   "id": "1eea2a07-3352-4eaa-b12a-665eb62a56dc",
   "metadata": {},
   "source": [
    "**Импорт библиотек**"
   ]
  },
  {
   "cell_type": "code",
   "execution_count": 8,
   "id": "d24c7b06-d93f-43c8-a1a9-254b38eed2a5",
   "metadata": {},
   "outputs": [
    {
     "name": "stdout",
     "output_type": "stream",
     "text": [
      "2.13.0\n"
     ]
    }
   ],
   "source": [
    "import tensorflow as tf\n",
    "print(tf.__version__)\n",
    "from tensorflow.keras import layers, models\n",
    "import numpy as np\n",
    "import matplotlib.pyplot as plt"
   ]
  },
  {
   "cell_type": "markdown",
   "id": "7110342e-5540-44ee-a833-ac73dcd0a152",
   "metadata": {},
   "source": [
    "**Загрузка данных**"
   ]
  },
  {
   "cell_type": "code",
   "execution_count": 9,
   "id": "8d751654-c737-4a35-9f9a-b7f92e9d6e8e",
   "metadata": {},
   "outputs": [],
   "source": [
    "(train_images, train_labels), (test_images, test_labels) = tf.keras.datasets.mnist.load_data()"
   ]
  },
  {
   "cell_type": "markdown",
   "id": "5f7b71d4",
   "metadata": {},
   "source": [
    "**Предобработка данных**"
   ]
  },
  {
   "cell_type": "code",
   "execution_count": 12,
   "id": "097ab8a4",
   "metadata": {},
   "outputs": [],
   "source": [
    "train_images = train_images/255.0\n",
    "test_images = test_images/255.0\n",
    "\n",
    "train_images = train_images.reshape((60000, 28*28))\n",
    "test_images = test_images.reshape((10000, 28*28))\n",
    " "
   ]
  },
  {
   "cell_type": "markdown",
   "id": "2e8ceee3",
   "metadata": {},
   "source": [
    "**Создание модели**"
   ]
  },
  {
   "cell_type": "code",
   "execution_count": 13,
   "id": "1e2cdf2f",
   "metadata": {},
   "outputs": [],
   "source": [
    "model = models.Sequential()\n",
    "model.add(layers.Dense(512, activation='relu', input_shape=(28*28,)))\n",
    "model.add(layers.Dense(10, activation='softmax'))"
   ]
  },
  {
   "cell_type": "markdown",
   "id": "e7e8a489",
   "metadata": {},
   "source": [
    "**Компиляция модели**"
   ]
  },
  {
   "cell_type": "code",
   "execution_count": 14,
   "id": "5033e68a",
   "metadata": {},
   "outputs": [],
   "source": [
    "model.compile(optimizer='adam', loss='sparse_categorical_crossentropy', metrics=['accuracy'])"
   ]
  },
  {
   "cell_type": "markdown",
   "id": "64166e51",
   "metadata": {},
   "source": [
    "**Обучение модели**"
   ]
  },
  {
   "cell_type": "code",
   "execution_count": 15,
   "id": "32d9e3fe",
   "metadata": {},
   "outputs": [
    {
     "name": "stdout",
     "output_type": "stream",
     "text": [
      "Epoch 1/5\n",
      "1875/1875 [==============================] - 2s 1ms/step - loss: 0.2025 - accuracy: 0.9397\n",
      "Epoch 2/5\n",
      "1875/1875 [==============================] - 2s 1ms/step - loss: 0.0810 - accuracy: 0.9753\n",
      "Epoch 3/5\n",
      "1875/1875 [==============================] - 2s 1ms/step - loss: 0.0518 - accuracy: 0.9837\n",
      "Epoch 4/5\n",
      "1875/1875 [==============================] - 2s 1ms/step - loss: 0.0361 - accuracy: 0.9881\n",
      "Epoch 5/5\n",
      "1875/1875 [==============================] - 2s 1ms/step - loss: 0.0274 - accuracy: 0.9911\n"
     ]
    },
    {
     "data": {
      "text/plain": [
       "<keras.src.callbacks.History at 0x31bcbf130>"
      ]
     },
     "execution_count": 15,
     "metadata": {},
     "output_type": "execute_result"
    }
   ],
   "source": [
    "model.fit(train_images, train_labels, epochs=5)"
   ]
  },
  {
   "cell_type": "markdown",
   "id": "fd44d084",
   "metadata": {},
   "source": [
    "**Оценка модели**"
   ]
  },
  {
   "cell_type": "code",
   "execution_count": 16,
   "id": "165c85e3",
   "metadata": {},
   "outputs": [
    {
     "name": "stdout",
     "output_type": "stream",
     "text": [
      "313/313 [==============================] - 0s 616us/step - loss: 0.0669 - accuracy: 0.9810\n",
      "Accuracy = 0.9810000061988831\n"
     ]
    }
   ],
   "source": [
    "test_loss, test_acc = model.evaluate(test_images, test_labels)\n",
    "print(f'Accuracy = {test_acc}')"
   ]
  },
  {
   "cell_type": "markdown",
   "id": "90716aec",
   "metadata": {},
   "source": [
    "**Предсказания**"
   ]
  },
  {
   "cell_type": "code",
   "execution_count": 17,
   "id": "d4209f6b",
   "metadata": {},
   "outputs": [
    {
     "name": "stdout",
     "output_type": "stream",
     "text": [
      "313/313 [==============================] - 0s 529us/step\n",
      "7\n"
     ]
    }
   ],
   "source": [
    "predictions = model.predict(test_images)\n",
    "print(np.argmax(predictions[0]))"
   ]
  },
  {
   "cell_type": "markdown",
   "id": "037daa98",
   "metadata": {},
   "source": [
    "**Отображение картинок**"
   ]
  },
  {
   "cell_type": "code",
   "execution_count": 24,
   "id": "fe04b643",
   "metadata": {},
   "outputs": [],
   "source": [
    "def plot_predictions(images, labels, predictions, num_images = 5):\n",
    "    plt.figure(figsize=(25, 25))\n",
    "    for i in range(num_images):\n",
    "        plt.subplot(5, 5, i+1)\n",
    "        plt.xticks([])\n",
    "        plt.yticks([])\n",
    "        plt.grid(False)\n",
    "        plt.imshow(images[i].reshape(28, 28), cmap=plt.cm.binary)\n",
    "        plt.xlabel(f'Predicted: {np.argmax(predictions[i])}')\n",
    "\n",
    "    plt.show()"
   ]
  },
  {
   "cell_type": "code",
   "execution_count": 25,
   "id": "1379e270",
   "metadata": {},
   "outputs": [
    {
     "data": {
      "image/png": "[encoded data removed]",
      "text/plain": [
       "<Figure size 2500x2500 with 5 Axes>"
      ]
     },
     "metadata": {},
     "output_type": "display_data"
    }
   ],
   "source": [
    "plot_predictions(test_images, test_labels, predictions)"
   ]
  },
  {
   "cell_type": "markdown",
   "id": "39ca3a32",
   "metadata": {},
   "source": [
    "**Пробуем другое количество нейронов**"
   ]
  },
  {
   "cell_type": "code",
   "execution_count": 29,
   "id": "cf9d78bd",
   "metadata": {},
   "outputs": [
    {
     "name": "stdout",
     "output_type": "stream",
     "text": [
      "Epoch 1/5\n",
      "1875/1875 [==============================] - 2s 772us/step - loss: 0.2262 - accuracy: 0.9344\n",
      "Epoch 2/5\n",
      "1875/1875 [==============================] - 1s 777us/step - loss: 0.0932 - accuracy: 0.9723\n",
      "Epoch 3/5\n",
      "1875/1875 [==============================] - 1s 777us/step - loss: 0.0619 - accuracy: 0.9813\n",
      "Epoch 4/5\n",
      "1875/1875 [==============================] - 1s 774us/step - loss: 0.0456 - accuracy: 0.9860\n",
      "Epoch 5/5\n",
      "1875/1875 [==============================] - 1s 775us/step - loss: 0.0328 - accuracy: 0.9896\n",
      "313/313 [==============================] - 0s 454us/step - loss: 0.0661 - accuracy: 0.9795\n",
      "Accuracy = 0.9794999957084656\n"
     ]
    }
   ],
   "source": [
    "model_2 = models.Sequential()\n",
    "model_2.add(layers.Dense(256, activation='relu', input_shape=(28*28,)))\n",
    "model_2.add(layers.Dense(10, activation='softmax'))\n",
    "model_2.compile(optimizer='adam', loss='sparse_categorical_crossentropy', metrics=['accuracy'])\n",
    "model_2.fit(train_images, train_labels, epochs=5)\n",
    "test_loss, test_acc = model_2.evaluate(test_images, test_labels)\n",
    "print(f'Accuracy = {test_acc}')"
   ]
  },
  {
   "cell_type": "markdown",
   "id": "a170edd5",
   "metadata": {},
   "source": [
    "**Пробуем другую функцию активации**"
   ]
  },
  {
   "cell_type": "code",
   "execution_count": 28,
   "id": "d9c95755",
   "metadata": {},
   "outputs": [
    {
     "name": "stdout",
     "output_type": "stream",
     "text": [
      "Epoch 1/5\n",
      "1875/1875 [==============================] - 2s 1ms/step - loss: 0.2700 - accuracy: 0.9212\n",
      "Epoch 2/5\n",
      "1875/1875 [==============================] - 2s 1ms/step - loss: 0.1235 - accuracy: 0.9634\n",
      "Epoch 3/5\n",
      "1875/1875 [==============================] - 2s 1ms/step - loss: 0.0779 - accuracy: 0.9762\n",
      "Epoch 4/5\n",
      "1875/1875 [==============================] - 2s 1ms/step - loss: 0.0547 - accuracy: 0.9828\n",
      "Epoch 5/5\n",
      "1875/1875 [==============================] - 2s 1ms/step - loss: 0.0389 - accuracy: 0.9874\n",
      "313/313 [==============================] - 0s 585us/step - loss: 0.0727 - accuracy: 0.9770\n",
      "Accuracy = 0.9769999980926514\n"
     ]
    }
   ],
   "source": [
    "model_3 = models.Sequential()\n",
    "model_3.add(layers.Dense(512, activation='tanh', input_shape=(28*28,)))\n",
    "model_3.add(layers.Dense(10, activation='softmax'))\n",
    "model_3.compile(optimizer='adam', loss='sparse_categorical_crossentropy', metrics=['accuracy'])\n",
    "model_3.fit(train_images, train_labels, epochs=5)\n",
    "test_loss, test_acc = model_3.evaluate(test_images, test_labels)\n",
    "print(f'Accuracy = {test_acc}')"
   ]
  },
  {
   "cell_type": "markdown",
   "id": "8d0140ca",
   "metadata": {},
   "source": [
    "**Пробуем SGD вместо adam**"
   ]
  },
  {
   "cell_type": "code",
   "execution_count": 30,
   "id": "c0330391",
   "metadata": {},
   "outputs": [
    {
     "name": "stdout",
     "output_type": "stream",
     "text": [
      "Epoch 1/5\n",
      "1875/1875 [==============================] - 2s 948us/step - loss: 0.6039 - accuracy: 0.8545\n",
      "Epoch 2/5\n",
      "1875/1875 [==============================] - 2s 1ms/step - loss: 0.3208 - accuracy: 0.9112\n",
      "Epoch 3/5\n",
      "1875/1875 [==============================] - 2s 1ms/step - loss: 0.2729 - accuracy: 0.9241\n",
      "Epoch 4/5\n",
      "1875/1875 [==============================] - 2s 978us/step - loss: 0.2423 - accuracy: 0.9323\n",
      "Epoch 5/5\n",
      "1875/1875 [==============================] - 2s 966us/step - loss: 0.2188 - accuracy: 0.9394\n",
      "313/313 [==============================] - 0s 569us/step - loss: 0.2043 - accuracy: 0.9433\n",
      "Accuracy = 0.9433000087738037\n"
     ]
    }
   ],
   "source": [
    "model_4 = models.Sequential()\n",
    "model_4.add(layers.Dense(512, activation='relu', input_shape=(28*28,)))\n",
    "model_4.add(layers.Dense(10, activation='softmax'))\n",
    "model_4.compile(optimizer='sgd', loss='sparse_categorical_crossentropy', metrics=['accuracy'])\n",
    "model_4.fit(train_images, train_labels, epochs=5)\n",
    "test_loss, test_acc = model_4.evaluate(test_images, test_labels)\n",
    "print(f'Accuracy = {test_acc}')"
   ]
  },
  {
   "cell_type": "markdown",
   "id": "da1d5d20",
   "metadata": {},
   "source": [
    "**Модель с Dropout**\n"
   ]
  },
  {
   "cell_type": "code",
   "execution_count": 31,
   "id": "db1ff952",
   "metadata": {},
   "outputs": [
    {
     "name": "stdout",
     "output_type": "stream",
     "text": [
      "Epoch 1/5\n",
      "1875/1875 [==============================] - 3s 1ms/step - loss: 0.2196 - accuracy: 0.9354\n",
      "Epoch 2/5\n",
      "1875/1875 [==============================] - 2s 1ms/step - loss: 0.0972 - accuracy: 0.9703\n",
      "Epoch 3/5\n",
      "1875/1875 [==============================] - 2s 1ms/step - loss: 0.0696 - accuracy: 0.9780\n",
      "Epoch 4/5\n",
      "1875/1875 [==============================] - 3s 1ms/step - loss: 0.0543 - accuracy: 0.9827\n",
      "Epoch 5/5\n",
      "1875/1875 [==============================] - 3s 1ms/step - loss: 0.0435 - accuracy: 0.9862\n",
      "313/313 [==============================] - 0s 623us/step - loss: 0.0642 - accuracy: 0.9801\n",
      "313/313 [==============================] - 0s 736us/step - loss: 0.0642 - accuracy: 0.9801\n",
      "Accuracy = 0.9800999760627747\n"
     ]
    }
   ],
   "source": [
    "model_5 = models.Sequential()\n",
    "model_5.add(layers.Dense(512, activation='relu', input_shape=(28*28,)))\n",
    "model_5.add(layers.Dropout(0.2))\n",
    "model_5.add(layers.Dense(10, activation='softmax'))\n",
    "model_5.compile(optimizer='adam', loss='sparse_categorical_crossentropy', metrics=['accuracy'])\n",
    "model_5.fit(train_images, train_labels, epochs=5)\n",
    "model_5.evaluate(test_images, test_labels)\n",
    "test_loss, test_acc = model_5.evaluate(test_images, test_labels)\n",
    "print(f'Accuracy = {test_acc}')"
   ]
  },
  {
   "cell_type": "code",
   "execution_count": 38,
   "id": "ad7cf2dc",
   "metadata": {},
   "outputs": [
    {
     "name": "stdout",
     "output_type": "stream",
     "text": [
      "Epoch 1/5\n",
      "1875/1875 [==============================] - 3s 2ms/step - loss: 0.9989 - accuracy: 0.8998\n",
      "Epoch 2/5\n",
      "1875/1875 [==============================] - 3s 2ms/step - loss: 0.7030 - accuracy: 0.9127\n",
      "Epoch 3/5\n",
      "1875/1875 [==============================] - 3s 2ms/step - loss: 0.7143 - accuracy: 0.9132\n",
      "Epoch 4/5\n",
      "1875/1875 [==============================] - 3s 2ms/step - loss: 0.7101 - accuracy: 0.9158\n",
      "Epoch 5/5\n",
      "1875/1875 [==============================] - 3s 2ms/step - loss: 0.7019 - accuracy: 0.9176\n",
      "313/313 [==============================] - 0s 686us/step - loss: 0.5950 - accuracy: 0.9429\n",
      "313/313 [==============================] - 0s 631us/step - loss: 0.5950 - accuracy: 0.9429\n",
      "Accuracy = 0.9429000020027161\n"
     ]
    }
   ],
   "source": [
    "from sklearn.preprocessing import StandardScaler\n",
    "scaler = StandardScaler()\n",
    "train_images = scaler.fit_transform(train_images)\n",
    "test_images = scaler.transform(test_images)\n",
    "\n",
    "final_model = models.Sequential()\n",
    "final_model.add(layers.Dense(512, activation='relu', input_shape=(28*28,), kernel_regularizer=tf.keras.regularizers.l2(0.01)))\n",
    "final_model.add(layers.Dropout(0.5))\n",
    "final_model.add(layers.Dense(10, activation='softmax'))\n",
    "final_model.compile(optimizer='adam', loss='sparse_categorical_crossentropy', metrics=['accuracy'])\n",
    "final_model.fit(train_images, train_labels, epochs=5)\n",
    "final_model.evaluate(test_images, test_labels)\n",
    "test_loss, test_acc = final_model.evaluate(test_images, test_labels)\n",
    "print(f'Accuracy = {test_acc}')"
   ]
  },
  {
   "cell_type": "code",
   "execution_count": null,
   "id": "5f5c0024",
   "metadata": {},
   "outputs": [],
   "source": []
  }
 ],
 "metadata": {
  "kernelspec": {
   "display_name": "ml-ds",
   "language": "python",
   "name": "python3"
  },
  "language_info": {
   "codemirror_mode": {
    "name": "ipython",
    "version": 3
   },
   "file_extension": ".py",
   "mimetype": "text/x-python",
   "name": "python",
   "nbconvert_exporter": "python",
   "pygments_lexer": "ipython3",
   "version": "3.8.20"
  }
 },
 "nbformat": 4,
 "nbformat_minor": 5
}
