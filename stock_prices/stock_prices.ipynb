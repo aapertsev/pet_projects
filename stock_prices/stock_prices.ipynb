{
 "cells": [
  {
   "cell_type": "markdown",
   "metadata": {},
   "source": [
    "# Прогнозирование цен на акции на основе LSTM\n",
    "___"
   ]
  },
  {
   "cell_type": "markdown",
   "metadata": {},
   "source": [
    "**Импорт библиотек**"
   ]
  },
  {
   "cell_type": "code",
   "execution_count": 2,
   "metadata": {},
   "outputs": [],
   "source": [
    "import numpy as np \n",
    "import pandas as pd \n",
    "import tensorflow as tf \n",
    "from tensorflow.keras import layers, models\n",
    "from sklearn.preprocessing import MinMaxScaler\n",
    "from sklearn.model_selection import train_test_split\n",
    "import matplotlib.pyplot as plt"
   ]
  },
  {
   "cell_type": "markdown",
   "metadata": {},
   "source": [
    "**Загрузка данных**"
   ]
  },
  {
   "cell_type": "code",
   "execution_count": 4,
   "metadata": {},
   "outputs": [
    {
     "data": {
      "text/html": [
       "<div>\n",
       "<style scoped>\n",
       "    .dataframe tbody tr th:only-of-type {\n",
       "        vertical-align: middle;\n",
       "    }\n",
       "\n",
       "    .dataframe tbody tr th {\n",
       "        vertical-align: top;\n",
       "    }\n",
       "\n",
       "    .dataframe thead th {\n",
       "        text-align: right;\n",
       "    }\n",
       "</style>\n",
       "<table border=\"1\" class=\"dataframe\">\n",
       "  <thead>\n",
       "    <tr style=\"text-align: right;\">\n",
       "      <th></th>\n",
       "      <th>date</th>\n",
       "      <th>ticker</th>\n",
       "      <th>sector</th>\n",
       "      <th>open</th>\n",
       "      <th>high</th>\n",
       "      <th>low</th>\n",
       "      <th>close</th>\n",
       "      <th>volume</th>\n",
       "    </tr>\n",
       "  </thead>\n",
       "  <tbody>\n",
       "    <tr>\n",
       "      <th>0</th>\n",
       "      <td>2019-01-01</td>\n",
       "      <td>A</td>\n",
       "      <td>Health Care</td>\n",
       "      <td>65.7833</td>\n",
       "      <td>66.9137</td>\n",
       "      <td>65.7833</td>\n",
       "      <td>66.8939</td>\n",
       "      <td>1572100.0</td>\n",
       "    </tr>\n",
       "    <tr>\n",
       "      <th>1</th>\n",
       "      <td>2019-01-01</td>\n",
       "      <td>AAL</td>\n",
       "      <td>Industrials</td>\n",
       "      <td>31.6955</td>\n",
       "      <td>32.2189</td>\n",
       "      <td>31.2905</td>\n",
       "      <td>31.7152</td>\n",
       "      <td>5334700.0</td>\n",
       "    </tr>\n",
       "    <tr>\n",
       "      <th>2</th>\n",
       "      <td>2019-01-01</td>\n",
       "      <td>AAP</td>\n",
       "      <td>Consumer Discretionary</td>\n",
       "      <td>155.8126</td>\n",
       "      <td>157.4401</td>\n",
       "      <td>154.7542</td>\n",
       "      <td>157.2205</td>\n",
       "      <td>752500.0</td>\n",
       "    </tr>\n",
       "    <tr>\n",
       "      <th>3</th>\n",
       "      <td>2019-01-01</td>\n",
       "      <td>AAPL</td>\n",
       "      <td>Information Technology</td>\n",
       "      <td>156.1761</td>\n",
       "      <td>156.9938</td>\n",
       "      <td>154.1566</td>\n",
       "      <td>155.3979</td>\n",
       "      <td>35003500.0</td>\n",
       "    </tr>\n",
       "    <tr>\n",
       "      <th>4</th>\n",
       "      <td>2019-01-01</td>\n",
       "      <td>ABBV</td>\n",
       "      <td>Health Care</td>\n",
       "      <td>84.3097</td>\n",
       "      <td>85.5891</td>\n",
       "      <td>83.9692</td>\n",
       "      <td>84.8528</td>\n",
       "      <td>5722100.0</td>\n",
       "    </tr>\n",
       "  </tbody>\n",
       "</table>\n",
       "</div>"
      ],
      "text/plain": [
       "         date ticker                  sector      open      high       low  \\\n",
       "0  2019-01-01      A             Health Care   65.7833   66.9137   65.7833   \n",
       "1  2019-01-01    AAL             Industrials   31.6955   32.2189   31.2905   \n",
       "2  2019-01-01    AAP  Consumer Discretionary  155.8126  157.4401  154.7542   \n",
       "3  2019-01-01   AAPL  Information Technology  156.1761  156.9938  154.1566   \n",
       "4  2019-01-01   ABBV             Health Care   84.3097   85.5891   83.9692   \n",
       "\n",
       "      close      volume  \n",
       "0   66.8939   1572100.0  \n",
       "1   31.7152   5334700.0  \n",
       "2  157.2205    752500.0  \n",
       "3  155.3979  35003500.0  \n",
       "4   84.8528   5722100.0  "
      ]
     },
     "execution_count": 4,
     "metadata": {},
     "output_type": "execute_result"
    }
   ],
   "source": [
    "data = pd.read_csv('stock_prices.csv')\n",
    "data.head()"
   ]
  },
  {
   "cell_type": "markdown",
   "metadata": {},
   "source": [
    "**Обработка данных**"
   ]
  },
  {
   "cell_type": "code",
   "execution_count": 5,
   "metadata": {},
   "outputs": [],
   "source": [
    "prices = data['close'].values.reshape(-1, 1)"
   ]
  },
  {
   "cell_type": "code",
   "execution_count": 6,
   "metadata": {},
   "outputs": [],
   "source": [
    "scaler = MinMaxScaler()\n",
    "scaled_prices = scaler.fit_transform(prices)"
   ]
  },
  {
   "cell_type": "code",
   "execution_count": 7,
   "metadata": {},
   "outputs": [],
   "source": [
    "def create_sequences(data, seq_length):\n",
    "    xs = []\n",
    "    ys = []\n",
    "    for i in range(len(data) - seq_length):\n",
    "        x = data[i:(i + seq_length)]\n",
    "        y = data[i + seq_length]\n",
    "        xs.append(x)\n",
    "        ys.append(y)\n",
    "    return np.array(xs), np.array(ys)"
   ]
  },
  {
   "cell_type": "code",
   "execution_count": 8,
   "metadata": {},
   "outputs": [],
   "source": [
    "seq_length = 60\n",
    "X, y = create_sequences(scaled_prices, seq_length)"
   ]
  },
  {
   "cell_type": "code",
   "execution_count": 14,
   "metadata": {},
   "outputs": [],
   "source": [
    "X_train, X_test, y_train, y_test = train_test_split(X, y, test_size=0.2, shuffle=False)"
   ]
  },
  {
   "cell_type": "markdown",
   "metadata": {},
   "source": [
    "**Создание LSTM**"
   ]
  },
  {
   "cell_type": "code",
   "execution_count": 17,
   "metadata": {},
   "outputs": [],
   "source": [
    "model = models.Sequential()\n",
    "model.add(layers.LSTM(50, activation='relu', return_sequences=True, input_shape=(seq_length, 1)))\n",
    "model.add(layers.LSTM(50, return_sequences=False))\n",
    "model.add(layers.Dense(25))\n",
    "model.add(layers.Dense(1))"
   ]
  },
  {
   "cell_type": "code",
   "execution_count": 18,
   "metadata": {},
   "outputs": [],
   "source": [
    "model.compile(optimizer='adam', loss='mean_squared_error')"
   ]
  },
  {
   "cell_type": "code",
   "execution_count": 19,
   "metadata": {},
   "outputs": [
    {
     "name": "stdout",
     "output_type": "stream",
     "text": [
      "Epoch 1/10\n",
      "3294/3294 [==============================] - 71s 21ms/step - loss: nan - val_loss: nan\n",
      "Epoch 2/10\n",
      "3294/3294 [==============================] - 70s 21ms/step - loss: nan - val_loss: nan\n",
      "Epoch 3/10\n",
      "3294/3294 [==============================] - 70s 21ms/step - loss: nan - val_loss: nan\n",
      "Epoch 4/10\n",
      "3294/3294 [==============================] - 69s 21ms/step - loss: nan - val_loss: nan\n",
      "Epoch 5/10\n",
      "3294/3294 [==============================] - 69s 21ms/step - loss: nan - val_loss: nan\n",
      "Epoch 6/10\n",
      "3294/3294 [==============================] - 70s 21ms/step - loss: nan - val_loss: nan\n",
      "Epoch 7/10\n",
      "3294/3294 [==============================] - 68s 21ms/step - loss: nan - val_loss: nan\n",
      "Epoch 8/10\n",
      "3294/3294 [==============================] - 69s 21ms/step - loss: nan - val_loss: nan\n",
      "Epoch 9/10\n",
      "3294/3294 [==============================] - 69s 21ms/step - loss: nan - val_loss: nan\n",
      "Epoch 10/10\n",
      "3294/3294 [==============================] - 69s 21ms/step - loss: nan - val_loss: nan\n"
     ]
    }
   ],
   "source": [
    "history = model.fit(X_train, y_train, epochs=10, batch_size=32, validation_data=(X_test, y_test))"
   ]
  },
  {
   "cell_type": "code",
   "execution_count": 20,
   "metadata": {},
   "outputs": [
    {
     "name": "stdout",
     "output_type": "stream",
     "text": [
      "824/824 [==============================] - 4s 5ms/step\n"
     ]
    }
   ],
   "source": [
    "predictions = model.predict(X_test)\n",
    "predictions = scaler.inverse_transform(predictions)\n"
   ]
  },
  {
   "cell_type": "code",
   "execution_count": 21,
   "metadata": {},
   "outputs": [
    {
     "data": {
      "image/png": "[encoded data removed]",
      "text/plain": [
       "<Figure size 1000x600 with 1 Axes>"
      ]
     },
     "metadata": {},
     "output_type": "display_data"
    }
   ],
   "source": [
    "plt.figure(figsize=(10, 6))\n",
    "plt.plot(data.index[:len(data)-len(y_test)], scaler.inverse_transform(scaled_prices[:len(scaled_prices) - len(y_test)]), color='blue', label='Исторические данные')\n",
    "plt.plot(data.index[len(data)-len(y_test):], scaler.inverse_transform(scaled_prices[len(scaled_prices)-len(y_test):]), color='Orange', label='Истинные данные')\n",
    "plt.plot(data.index[len(data)-len(y_test):], predictions, color='red', label='Прогноз')\n",
    "plt.title('Прогнозирование цен акций')\n",
    "plt.xlabel('Дата')\n",
    "plt.ylabel('Цена закрытия')\n",
    "plt.legend()\n",
    "plt.show()"
   ]
  },
  {
   "cell_type": "code",
   "execution_count": null,
   "metadata": {},
   "outputs": [],
   "source": []
  }
 ],
 "metadata": {
  "kernelspec": {
   "display_name": "ml-ds",
   "language": "python",
   "name": "python3"
  },
  "language_info": {
   "codemirror_mode": {
    "name": "ipython",
    "version": 3
   },
   "file_extension": ".py",
   "mimetype": "text/x-python",
   "name": "python",
   "nbconvert_exporter": "python",
   "pygments_lexer": "ipython3",
   "version": "3.8.20"
  }
 },
 "nbformat": 4,
 "nbformat_minor": 2
}
